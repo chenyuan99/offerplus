{
 "cells": [
  {
   "cell_type": "code",
   "id": "initial_id",
   "metadata": {
    "collapsed": true,
    "ExecuteTime": {
     "end_time": "2024-10-31T20:56:44.708067Z",
     "start_time": "2024-10-31T20:56:44.698850Z"
    }
   },
   "source": [
    "# import packages\n",
    "import logging\n",
    "import os\n",
    "\n",
    "import openai\n",
    "\n",
    "openai.api_key = os.environ[\"OPENAI_API_KEY\"]\n",
    "\n",
    "company_name = \"PLEASE_REPLACE_ME\"\n",
    "\n",
    "interviewer_name = \"PLEASE_REPLACE_ME\"\n",
    "\n",
    "\n",
    "def generate_response(prompt: str) -> str:\n",
    "    completion = openai.ChatCompletion.create(\n",
    "        model=\"gpt-4o-mini\", messages=[{\"role\": \"user\", \"content\": prompt}]\n",
    "    )\n",
    "    result = completion.choices[0].message.content\n",
    "    logging.info(f\"Generated response: {result}\")\n",
    "    return result\n",
    "\n",
    "def generate_thank_you_letter(interviewer_name: str, company_name: str) -> str:\n",
    "    return generate_response(f\"Write a thank you letter to your Interviewer {interviewer_name} for {company_name}.\")\n",
    "\n",
    "\n",
    "def generate_why_company(company_name: str) -> str:\n",
    "    return generate_response(f\"Why {company_name}.\")\n",
    "\n",
    "def generate_why_role(company_name: str) -> str:\n",
    "    return generate_response(f\"Why this role at {company_name}.\")"
   ],
   "outputs": [],
   "execution_count": 2
  },
  {
   "metadata": {
    "ExecuteTime": {
     "end_time": "2024-10-31T21:09:08.057715Z",
     "start_time": "2024-10-31T21:09:04.685943Z"
    }
   },
   "cell_type": "code",
   "source": "generate_why_company(\"Barclays\")",
   "id": "67b52682e57cb880",
   "outputs": [
    {
     "data": {
      "text/plain": [
       "'There are several reasons why someone might choose Barclays as their bank. Some of the common reasons include:\\n\\n1. Global presence: Barclays is a multinational financial services company with operations in over 40 countries worldwide. This allows customers to access a wide range of banking services in multiple locations.\\n\\n2. Range of services: Barclays offers a wide variety of products and services, including personal banking, business banking, investment services, and wealth management. This makes it easy for customers to find all their financial needs in one place.\\n\\n3. Technology innovation: Barclays is known for its focus on technology and innovation, offering customers convenient online and mobile banking services that make managing their finances easier.\\n\\n4. Reputation: Barclays has a long history in the banking industry and is well-established as a trusted and reliable financial institution.\\n\\n5. Customer service: Barclays is known for its excellent customer service, with dedicated support teams available to assist customers with any banking needs or concerns.\\n\\nOverall, individuals may choose Barclays as their bank for its global reach, diverse range of services, innovative technology, strong reputation, and superior customer service.'"
      ]
     },
     "execution_count": 4,
     "metadata": {},
     "output_type": "execute_result"
    }
   ],
   "execution_count": 4
  },
  {
   "metadata": {},
   "cell_type": "code",
   "outputs": [],
   "execution_count": null,
   "source": "",
   "id": "e19a0c4e7333cfec"
  }
 ],
 "metadata": {
  "kernelspec": {
   "display_name": "Python 3",
   "language": "python",
   "name": "python3"
  },
  "language_info": {
   "codemirror_mode": {
    "name": "ipython",
    "version": 2
   },
   "file_extension": ".py",
   "mimetype": "text/x-python",
   "name": "python",
   "nbconvert_exporter": "python",
   "pygments_lexer": "ipython2",
   "version": "2.7.6"
  }
 },
 "nbformat": 4,
 "nbformat_minor": 5
}
