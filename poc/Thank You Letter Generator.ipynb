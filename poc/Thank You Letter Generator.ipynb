{
 "cells": [
  {
   "cell_type": "code",
   "execution_count": null,
   "id": "initial_id",
   "metadata": {
    "collapsed": true
   },
   "outputs": [],
   "source": [
    "# import packages\n",
    "import logging\n",
    "import os\n",
    "\n",
    "import openai\n",
    "\n",
    "openai.api_key = os.environ[\"OPENAI_API_KEY\"]\n",
    "\n",
    "company_name = \"PLEASE_REPLACE_ME\"\n",
    "\n",
    "interviewer_name = \"PLEASE_REPLACE_ME\"\n",
    "\n",
    "\n",
    "def generate_response(prompt: str) -> str:\n",
    "    completion = openai.ChatCompletion.create(\n",
    "        model=\"gpt-3.5-turbo\", messages=[{\"role\": \"user\", \"content\": prompt}]\n",
    "    )\n",
    "    result = completion.choices[0].message.content\n",
    "    logging.info(f\"Generated response: {result}\")\n",
    "    return result\n",
    "\n",
    "def generate_thank_you_letter(interviewer_name: str, company_name: str) -> str:\n",
    "    return generate_response(f\"Write a thank you letter to your Interviewer {interviewer_name} for {company_name}.\")\n",
    "\n",
    "\n",
    "def generate_why_company(company_name: str) -> str:\n",
    "    return generate_response(f\"Why {company_name}.\")\n",
    "\n",
    "def generate_why_role(company_name: str) -> str:\n",
    "    return generate_response(f\"Why this role at {company_name}.\")"
   ]
  }
 ],
 "metadata": {
  "kernelspec": {
   "display_name": "Python 3",
   "language": "python",
   "name": "python3"
  },
  "language_info": {
   "codemirror_mode": {
    "name": "ipython",
    "version": 2
   },
   "file_extension": ".py",
   "mimetype": "text/x-python",
   "name": "python",
   "nbconvert_exporter": "python",
   "pygments_lexer": "ipython2",
   "version": "2.7.6"
  }
 },
 "nbformat": 4,
 "nbformat_minor": 5
}
